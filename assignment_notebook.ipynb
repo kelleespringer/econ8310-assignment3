{
  "cells": [
    {
      "cell_type": "markdown",
      "id": "8e649671-64ae-4692-a381-33974ffa666a",
      "metadata": {
        "id": "8e649671-64ae-4692-a381-33974ffa666a"
      },
      "source": [
        "# Assignment 3\n",
        "## Econ 8310 - Business Forecasting\n",
        "\n",
        "For homework assignment 3, you will work with [Fashion MNIST](https://github.com/zalandoresearch/fashion-mnist), a more fancier data set.\n",
        "\n",
        "- You must create a custom data loader as described in the first week of neural network lectures [2 points]\n",
        "    - You will NOT receive credit for this if you use the pytorch prebuilt loader for Fashion MNIST!\n",
        "- You must create a working and trained neural network using only pytorch [2 points]\n",
        "- You must store your weights and create an import script so that I can evaluate your model without training it [2 points]\n",
        "\n",
        "Highest accuracy score gets some extra credit!\n",
        "\n",
        "Submit your forked repository URL on Canvas! :) I'll be manually grading this assignment.\n",
        "\n",
        "Some checks you can make on your own:\n",
        "- Did you manually process the data or use a prebuilt loader (see above)?\n",
        "- Does your script train a neural network on the assigned data?\n",
        "- Did your script save your model?\n",
        "- Do you have separate code to import your model for use after training?"
      ]
    },
    {
      "cell_type": "code",
      "execution_count": 15,
      "id": "bcd35387-b05b-4cb2-9b1f-e1d2c0e43588",
      "metadata": {
        "colab": {
          "base_uri": "https://localhost:8080/"
        },
        "id": "bcd35387-b05b-4cb2-9b1f-e1d2c0e43588",
        "outputId": "fb27bc7b-481d-4c97-d220-6848d5570189"
      },
      "outputs": [
        {
          "output_type": "stream",
          "name": "stdout",
          "text": [
            "--2025-04-15 00:38:13--  https://raw.githubusercontent.com/kelleespringer/econ8310-assignment3/main/data/train-images-idx3-ubyte.gz\n",
            "Resolving raw.githubusercontent.com (raw.githubusercontent.com)... 185.199.108.133, 185.199.109.133, 185.199.110.133, ...\n",
            "Connecting to raw.githubusercontent.com (raw.githubusercontent.com)|185.199.108.133|:443... connected.\n",
            "HTTP request sent, awaiting response... 200 OK\n",
            "Length: 26421880 (25M) [application/octet-stream]\n",
            "Saving to: ‘data/fashion/train-images-idx3-ubyte.gz’\n",
            "\n",
            "data/fashion/train- 100%[===================>]  25.20M  --.-KB/s    in 0.1s    \n",
            "\n",
            "2025-04-15 00:38:13 (172 MB/s) - ‘data/fashion/train-images-idx3-ubyte.gz’ saved [26421880/26421880]\n",
            "\n",
            "--2025-04-15 00:38:13--  https://raw.githubusercontent.com/kelleespringer/econ8310-assignment3/main/data/train-labels-idx1-ubyte.gz\n",
            "Resolving raw.githubusercontent.com (raw.githubusercontent.com)... 185.199.108.133, 185.199.109.133, 185.199.110.133, ...\n",
            "Connecting to raw.githubusercontent.com (raw.githubusercontent.com)|185.199.108.133|:443... connected.\n",
            "HTTP request sent, awaiting response... 200 OK\n",
            "Length: 29515 (29K) [application/octet-stream]\n",
            "Saving to: ‘data/fashion/train-labels-idx1-ubyte.gz’\n",
            "\n",
            "data/fashion/train- 100%[===================>]  28.82K  --.-KB/s    in 0.002s  \n",
            "\n",
            "2025-04-15 00:38:14 (13.0 MB/s) - ‘data/fashion/train-labels-idx1-ubyte.gz’ saved [29515/29515]\n",
            "\n",
            "--2025-04-15 00:38:14--  https://raw.githubusercontent.com/kelleespringer/econ8310-assignment3/main/data/t10k-images-idx3-ubyte.gz\n",
            "Resolving raw.githubusercontent.com (raw.githubusercontent.com)... 185.199.108.133, 185.199.109.133, 185.199.110.133, ...\n",
            "Connecting to raw.githubusercontent.com (raw.githubusercontent.com)|185.199.108.133|:443... connected.\n",
            "HTTP request sent, awaiting response... 200 OK\n",
            "Length: 4422102 (4.2M) [application/octet-stream]\n",
            "Saving to: ‘data/fashion/t10k-images-idx3-ubyte.gz’\n",
            "\n",
            "data/fashion/t10k-i 100%[===================>]   4.22M  --.-KB/s    in 0.06s   \n",
            "\n",
            "2025-04-15 00:38:14 (75.5 MB/s) - ‘data/fashion/t10k-images-idx3-ubyte.gz’ saved [4422102/4422102]\n",
            "\n",
            "--2025-04-15 00:38:14--  https://raw.githubusercontent.com/kelleespringer/econ8310-assignment3/main/data/t10k-labels-idx1-ubyte.gz\n",
            "Resolving raw.githubusercontent.com (raw.githubusercontent.com)... 185.199.108.133, 185.199.109.133, 185.199.110.133, ...\n",
            "Connecting to raw.githubusercontent.com (raw.githubusercontent.com)|185.199.108.133|:443... connected.\n",
            "HTTP request sent, awaiting response... 200 OK\n",
            "Length: 5148 (5.0K) [application/octet-stream]\n",
            "Saving to: ‘data/fashion/t10k-labels-idx1-ubyte.gz’\n",
            "\n",
            "data/fashion/t10k-l 100%[===================>]   5.03K  --.-KB/s    in 0s      \n",
            "\n",
            "2025-04-15 00:38:14 (48.0 MB/s) - ‘data/fashion/t10k-labels-idx1-ubyte.gz’ saved [5148/5148]\n",
            "\n",
            "Image batch shape: torch.Size([64, 1, 28, 28])\n",
            "Label batch shape: torch.Size([64])\n"
          ]
        }
      ],
      "source": [
        "import os\n",
        "import gzip\n",
        "import numpy as np\n",
        "import torch\n",
        "from torch.utils.data import Dataset, DataLoader\n",
        "\n",
        "# Load image data from Fashion MNIST gzip file\n",
        "def load_images(path):\n",
        "    with gzip.open(path, 'rb') as f:\n",
        "        _ = int.from_bytes(f.read(4), 'big')  # magic number\n",
        "        num_images = int.from_bytes(f.read(4), 'big')\n",
        "        rows = int.from_bytes(f.read(4), 'big')\n",
        "        cols = int.from_bytes(f.read(4), 'big')\n",
        "        image_data = f.read()\n",
        "        images = np.frombuffer(image_data, dtype=np.uint8).reshape(num_images, 1, rows, cols)\n",
        "        return images / 255.0  # Normalize to [0, 1]\n",
        "\n",
        "# Load label data from Fashion MNIST gzip file\n",
        "def load_labels(path):\n",
        "    with gzip.open(path, 'rb') as f:\n",
        "        _ = int.from_bytes(f.read(4), 'big')  # magic number\n",
        "        num_labels = int.from_bytes(f.read(4), 'big')\n",
        "        label_data = f.read()\n",
        "        labels = np.frombuffer(label_data, dtype=np.uint8)\n",
        "        return labels\n",
        "\n",
        "class FashionMNISTDataset(Dataset):\n",
        "    def __init__(self, images_path, labels_path):\n",
        "        self.images = torch.tensor(load_images(images_path), dtype=torch.float32)\n",
        "        self.labels = torch.tensor(load_labels(labels_path), dtype=torch.long)\n",
        "\n",
        "    def __len__(self):\n",
        "        return len(self.labels)\n",
        "\n",
        "    def __getitem__(self, idx):\n",
        "        return self.images[idx], self.labels[idx]\n",
        "\n",
        "import os\n",
        "\n",
        "#Struggled with this section so this is a HUGE help from AI\n",
        "# Create folder if it doesn't exist.\n",
        "os.makedirs(\"data/fashion\", exist_ok=True)\n",
        "\n",
        "# Download raw .gz files from GitHub\n",
        "!wget -O data/fashion/train-images-idx3-ubyte.gz https://raw.githubusercontent.com/kelleespringer/econ8310-assignment3/main/data/train-images-idx3-ubyte.gz\n",
        "!wget -O data/fashion/train-labels-idx1-ubyte.gz https://raw.githubusercontent.com/kelleespringer/econ8310-assignment3/main/data/train-labels-idx1-ubyte.gz\n",
        "!wget -O data/fashion/t10k-images-idx3-ubyte.gz https://raw.githubusercontent.com/kelleespringer/econ8310-assignment3/main/data/t10k-images-idx3-ubyte.gz\n",
        "!wget -O data/fashion/t10k-labels-idx1-ubyte.gz https://raw.githubusercontent.com/kelleespringer/econ8310-assignment3/main/data/t10k-labels-idx1-ubyte.gz\n",
        "\n",
        "# Instantiate dataset using LOCAL file paths\n",
        "train_dataset = FashionMNISTDataset(\n",
        "    'data/fashion/train-images-idx3-ubyte.gz',\n",
        "    'data/fashion/train-labels-idx1-ubyte.gz'\n",
        ")\n",
        "\n",
        "\n",
        "# DataLoader\n",
        "train_loader = DataLoader(train_dataset, batch_size=64, shuffle=True)\n"
      ]
    },
    {
      "cell_type": "code",
      "source": [
        "import torch.nn as nn\n",
        "import torch.nn.functional as F\n",
        "\n",
        "class FashionClassifier(nn.Module):\n",
        "    def __init__(self):\n",
        "        super(FashionClassifier, self).__init__()\n",
        "        self.flatten = nn.Flatten()\n",
        "        self.fc1 = nn.Linear(28 * 28, 128)\n",
        "        self.fc2 = nn.Linear(128, 64)\n",
        "        self.fc3 = nn.Linear(64, 10)\n",
        "\n",
        "    def forward(self, x):\n",
        "        x = self.flatten(x)\n",
        "        x = F.relu(self.fc1(x))\n",
        "        x = F.relu(self.fc2(x))\n",
        "        return self.fc3(x)\n",
        "\n",
        "device = torch.device('cuda' if torch.cuda.is_available() else 'cpu')\n",
        "model = FashionClassifier().to(device)\n",
        "\n",
        "criterion = nn.CrossEntropyLoss()\n",
        "optimizer = torch.optim.Adam(model.parameters(), lr=0.001)\n",
        "\n",
        "num_epochs = 5\n",
        "\n",
        "for epoch in range(num_epochs):\n",
        "    running_loss = 0.0\n",
        "    for images, labels in train_loader:\n",
        "        images, labels = images.to(device), labels.to(device)\n",
        "\n",
        "        optimizer.zero_grad()\n",
        "        outputs = model(images)\n",
        "        loss = criterion(outputs, labels)\n",
        "        loss.backward()\n",
        "        optimizer.step()\n",
        "\n",
        "        running_loss += loss.item()\n",
        "\n",
        "    print(f\"Epoch {epoch+1}, Loss: {running_loss / len(train_loader):.4f}\")\n",
        "\n",
        "\n"
      ],
      "metadata": {
        "colab": {
          "base_uri": "https://localhost:8080/"
        },
        "id": "joFexrUx4uiL",
        "outputId": "3c0db0b2-ade0-45e6-855f-a055b6766f57"
      },
      "id": "joFexrUx4uiL",
      "execution_count": 20,
      "outputs": [
        {
          "output_type": "stream",
          "name": "stdout",
          "text": [
            "Epoch 1, Loss: 0.5545\n",
            "Epoch 2, Loss: 0.3940\n",
            "Epoch 3, Loss: 0.3537\n",
            "Epoch 4, Loss: 0.3251\n",
            "Epoch 5, Loss: 0.3075\n"
          ]
        }
      ]
    },
    {
      "cell_type": "code",
      "source": [
        "# Save model weights\n",
        "torch.save(model.state_dict(), 'fashion_mnist_model.pth')\n",
        "print(\"Model saved!\")"
      ],
      "metadata": {
        "colab": {
          "base_uri": "https://localhost:8080/"
        },
        "id": "AyTqFLqy5UaB",
        "outputId": "149cad69-c69d-47fa-9705-31aba86868e8"
      },
      "id": "AyTqFLqy5UaB",
      "execution_count": 30,
      "outputs": [
        {
          "output_type": "stream",
          "name": "stdout",
          "text": [
            "Model saved!\n"
          ]
        }
      ]
    },
    {
      "cell_type": "code",
      "source": [
        "def load_model(model_path):\n",
        "    model = FashionClassifier()\n",
        "    model.load_state_dict(torch.load(model_path))\n",
        "    model.eval()  # Set to evaluation mode\n",
        "    return model\n",
        "\n",
        "model = load_model('fashion_mnist_model.pth')\n"
      ],
      "metadata": {
        "id": "aTcadcD55n7P"
      },
      "id": "aTcadcD55n7P",
      "execution_count": 31,
      "outputs": []
    },
    {
      "cell_type": "code",
      "source": [
        "import torch\n",
        "from torch.utils.data import DataLoader\n",
        "from torchvision import datasets, transforms\n",
        "\n",
        "device = torch.device('cuda' if torch.cuda.is_available() else 'cpu')\n",
        "\n",
        "# Function to load model\n",
        "def load_model(model_path):\n",
        "    model = FashionClassifier()\n",
        "    model.load_state_dict(torch.load(model_path))\n",
        "    model.eval()\n",
        "    return model\n",
        "\n",
        "# Evaluate the model\n",
        "def evaluate(model, test_loader):\n",
        "    correct = 0\n",
        "    total = 0\n",
        "    with torch.no_grad():\n",
        "        for images, labels in test_loader:\n",
        "            images, labels = images.to(device), labels.to(device)\n",
        "            outputs = model(images)\n",
        "            _, predicted = torch.max(outputs, 1)\n",
        "            total += labels.size(0)\n",
        "            correct += (predicted == labels).sum().item()\n",
        "\n",
        "    accuracy = 100 * correct / total\n",
        "    print(f\"Test Accuracy: {accuracy:.2f}%\")\n",
        "    return accuracy\n",
        "\n",
        "# Main function to run evaluation\n",
        "if __name__ == \"__main__\":\n",
        "    # Set up test loader\n",
        "    test_dataset = FashionMNISTDataset(\n",
        "        'data/fashion/t10k-images-idx3-ubyte.gz',\n",
        "        'data/fashion/t10k-labels-idx1-ubyte.gz'\n",
        "    )\n",
        "    test_loader = DataLoader(test_dataset, batch_size=64, shuffle=False)\n",
        "\n",
        "    # Load the trained model\n",
        "    model = load_model('fashion_mnist_model.pth')\n",
        "\n",
        "    # Evaluate the model\n",
        "    evaluate(model, test_loader)\n"
      ],
      "metadata": {
        "colab": {
          "base_uri": "https://localhost:8080/"
        },
        "id": "2Su5qjZO6HOl",
        "outputId": "7aadbbc0-f588-4bd9-9fa6-0d21cd120f21"
      },
      "id": "2Su5qjZO6HOl",
      "execution_count": 32,
      "outputs": [
        {
          "output_type": "stream",
          "name": "stdout",
          "text": [
            "Test Accuracy: 86.92%\n"
          ]
        }
      ]
    }
  ],
  "metadata": {
    "kernelspec": {
      "display_name": "Python [conda env:base] *",
      "language": "python",
      "name": "conda-base-py"
    },
    "language_info": {
      "codemirror_mode": {
        "name": "ipython",
        "version": 3
      },
      "file_extension": ".py",
      "mimetype": "text/x-python",
      "name": "python",
      "nbconvert_exporter": "python",
      "pygments_lexer": "ipython3",
      "version": "3.12.7"
    },
    "colab": {
      "provenance": []
    }
  },
  "nbformat": 4,
  "nbformat_minor": 5
}